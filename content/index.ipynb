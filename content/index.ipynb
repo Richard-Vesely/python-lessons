{
  "cells": [
    {
      "cell_type": "markdown",
      "metadata": {},
      "source": [
        "# Python Lessons - Domovská stránka\n",
        "\n",
        "Vítejte v interaktivních Python lekcích! Tato stránka obsahuje všechny dostupné notebooky s Python výukou.\n",
        "\n",
        "## 📚 Dostupné lekce\n",
        "\n",
        "### [Python 1 - Základy programování](Python1.ipynb)\n",
        "Úvodní lekce pokrývající:\n",
        "- Základy příkazu `print()`\n",
        "- Práce s čísly a textem\n",
        "- Základní operace a jejich kombinace\n",
        "\n",
        "### [Příklad](example.ipynb)\n",
        "Ukázkový notebook s jednoduchými příklady\n",
        "\n",
        "## 🚀 Jak začít\n",
        "\n",
        "1. Klikněte na název lekce výše\n",
        "2. Spusťte buňky pomocí **Shift+Enter**\n",
        "3. Experimentujte s kódem a učte se!\n",
        "\n",
        "## 💡 Tipy\n",
        "\n",
        "- Každá buňka může být spuštěna nezávisle\n",
        "- Můžete upravovat kód a znovu spouštět buňky\n",
        "- Pokud se něco pokazí, restartujte kernel (Kernel → Restart)\n"
      ]
    }
  ],
  "metadata": {
    "language_info": {
      "name": "python"
    }
  },
  "nbformat": 4,
  "nbformat_minor": 2
}

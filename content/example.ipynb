{
  "cells": [
    {
      "cell_type": "markdown",
      "metadata": {},
      "source": [
        "# Ukázkový notebook\n",
        "\n",
        "Toto je ukázkový notebook pro demonstraci základních Python funkcí.\n",
        "\n",
        "## Co se naučíte:\n",
        "- Základní výstup pomocí `print()`\n",
        "- Práce s proměnnými\n",
        "- Jednoduché matematické operace\n"
      ]
    },
    {
      "cell_type": "code",
      "execution_count": null,
      "metadata": {},
      "outputs": [],
      "source": [
        "# Ukázkový Python kód\n",
        "print(\"Ahoj, JupyterLite!\")\n",
        "print(\"Vítejte v Python lekcích!\")\n",
        "\n",
        "# Práce s proměnnými\n",
        "jmeno = \"Python\"\n",
        "verze = 3.9\n",
        "print(f\"Používáme {jmeno} verze {verze}\")\n",
        "\n",
        "# Matematické operace\n",
        "a = 10\n",
        "b = 5\n",
        "print(f\"{a} + {b} = {a + b}\")\n",
        "print(f\"{a} * {b} = {a * b}\")\n"
      ]
    },
    {
      "cell_type": "markdown",
      "metadata": {},
      "source": [
        "## Cvičení\n",
        "\n",
        "Zkuste si upravit hodnoty proměnných `a` a `b` a spusťte buňku znovu!\n"
      ]
    },
    {
      "cell_type": "code",
      "execution_count": null,
      "metadata": {},
      "outputs": [],
      "source": [
        "# Zde můžete experimentovat s vlastním kódem\n",
        "# Například:\n",
        "# a = 20\n",
        "# b = 3\n",
        "# print(f\"Nové hodnoty: {a} a {b}\")\n"
      ]
    }
  ],
  "metadata": {
    "language_info": {
      "name": "python"
    }
  },
  "nbformat": 4,
  "nbformat_minor": 2
}

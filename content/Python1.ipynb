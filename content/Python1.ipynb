{
  "metadata": {
    "kernelspec": {
      "name": "python",
      "display_name": "Python (Pyodide)",
      "language": "python"
    },
    "language_info": {
      "codemirror_mode": {
        "name": "python",
        "version": 3
      },
      "file_extension": ".py",
      "mimetype": "text/x-python",
      "name": "python",
      "nbconvert_exporter": "python",
      "pygments_lexer": "ipython3",
      "version": "3.8"
    }
  },
  "nbformat_minor": 5,
  "nbformat": 4,
  "cells": [
    {
      "id": "a670dccf-bbd4-4446-8b64-d24f47468ba4",
      "cell_type": "markdown",
      "source": "# Základy programování v pythonu",
      "metadata": {
        "tags": [],
        "editable": true,
        "slideshow": {
          "slide_type": ""
        }
      }
    },
    {
      "id": "82ecf5cf-3404-449d-a3c7-ee7426ef0a76",
      "cell_type": "markdown",
      "source": "# Jdeme na to\nÚkol: Spusťt následující buňky (klikni na buňku a dej shift+enter (shift je vlevo na klávesnici jako \"shift\" nebo šipka nahoru. Enter je napravo a občas vypadá jako šipka zpátky)",
      "metadata": {
        "tags": [],
        "editable": true,
        "slideshow": {
          "slide_type": ""
        }
      }
    },
    {
      "id": "aeb092d1-ae99-44ee-8d8e-39d9e31356f8",
      "cell_type": "code",
      "source": "print(\"Hello world\")\n",
      "metadata": {
        "trusted": true,
        "tags": [],
        "editable": true,
        "slideshow": {
          "slide_type": ""
        }
      },
      "outputs": [
        {
          "name": "stdout",
          "output_type": "stream",
          "text": "Hello world\n"
        }
      ],
      "execution_count": 16
    },
    {
      "id": "144cdb04-f8d1-4451-9882-8918c817aa2a",
      "cell_type": "code",
      "source": "print(3)",
      "metadata": {
        "trusted": true,
        "tags": [],
        "editable": true,
        "slideshow": {
          "slide_type": ""
        }
      },
      "outputs": [
        {
          "name": "stdout",
          "output_type": "stream",
          "text": "3\n"
        }
      ],
      "execution_count": 24
    },
    {
      "id": "1cad6432-8810-4d80-97f5-e7f9c35ec062",
      "cell_type": "code",
      "source": "print( 3 + 4)",
      "metadata": {
        "trusted": true,
        "tags": [],
        "editable": true,
        "slideshow": {
          "slide_type": ""
        }
      },
      "outputs": [
        {
          "name": "stdout",
          "output_type": "stream",
          "text": "7\n"
        }
      ],
      "execution_count": 17
    },
    {
      "id": "e9ef7f66-569b-4113-9840-7bbf14893679",
      "cell_type": "code",
      "source": "print(\"3+4\")",
      "metadata": {
        "trusted": true,
        "tags": [],
        "editable": true,
        "slideshow": {
          "slide_type": ""
        }
      },
      "outputs": [
        {
          "name": "stdout",
          "output_type": "stream",
          "text": "3+4\n"
        }
      ],
      "execution_count": 18
    },
    {
      "id": "110be5bc-07bd-434a-8633-d241fd1c3f2c",
      "cell_type": "code",
      "source": "print(\"3\" + \"4\")",
      "metadata": {
        "trusted": true,
        "tags": [],
        "editable": true,
        "slideshow": {
          "slide_type": ""
        }
      },
      "outputs": [
        {
          "name": "stdout",
          "output_type": "stream",
          "text": "34\n"
        }
      ],
      "execution_count": 19
    },
    {
      "id": "be82243f-3583-4ee9-9e2d-b62d7e58f305",
      "cell_type": "markdown",
      "source": "# Co se to děje?\nRůzné příkazy dělají různé věci. Některé vůbec nefungují. Proč?\nNa to se teď podíváme.",
      "metadata": {
        "tags": [],
        "editable": true,
        "slideshow": {
          "slide_type": ""
        }
      }
    },
    {
      "id": "912f6d81-48c3-4239-9326-017a7faa682d",
      "cell_type": "markdown",
      "source": "### Co je to \"print()\"\nkdyž napíšeme print(\"něco\") tak se stane:",
      "metadata": {
        "tags": [],
        "editable": true,
        "slideshow": {
          "slide_type": ""
        }
      }
    },
    {
      "id": "0b505ed0-3346-4767-af4f-496f8aac7693",
      "cell_type": "code",
      "source": "print(\"něco\")",
      "metadata": {
        "trusted": true,
        "tags": [],
        "editable": true,
        "slideshow": {
          "slide_type": ""
        }
      },
      "outputs": [
        {
          "name": "stdout",
          "output_type": "stream",
          "text": "něco\n"
        }
      ],
      "execution_count": 30
    },
    {
      "id": "7971e2bb-ce08-481d-9ae1-7bc4cb00d66d",
      "cell_type": "markdown",
      "source": "... print prostě vytiskně to, co má v závorce",
      "metadata": {
        "tags": [],
        "editable": true,
        "slideshow": {
          "slide_type": ""
        }
      }
    },
    {
      "id": "7890fde7-e1ee-48ee-bfbb-698b077cb018",
      "cell_type": "markdown",
      "source": "V závorce může mít různé věci. Např. \n- čísla: 3, 4, 5, 6\n- text: ",
      "metadata": {
        "tags": [],
        "editable": true,
        "slideshow": {
          "slide_type": ""
        }
      }
    },
    {
      "id": "e2ca46e9-af70-45a4-a782-7ae1465cfb64",
      "cell_type": "code",
      "source": "print(\"3\" \"+\" \"4\")",
      "metadata": {
        "trusted": true,
        "tags": [],
        "editable": true,
        "slideshow": {
          "slide_type": ""
        }
      },
      "outputs": [
        {
          "name": "stdout",
          "output_type": "stream",
          "text": "3+4\n"
        }
      ],
      "execution_count": 20
    },
    {
      "id": "f802a75f-8f39-47e4-aff8-8716fdca6344",
      "cell_type": "code",
      "source": "print(\"3\",\"+\",\"4\")",
      "metadata": {
        "trusted": true,
        "tags": [],
        "editable": true,
        "slideshow": {
          "slide_type": ""
        }
      },
      "outputs": [
        {
          "name": "stdout",
          "output_type": "stream",
          "text": "3 + 4\n"
        }
      ],
      "execution_count": 13
    },
    {
      "id": "e9a3e090-ef8c-4c9a-9d35-b60b739f5fc7",
      "cell_type": "code",
      "source": "print(\"3\" + \"+\" + \"4\")",
      "metadata": {
        "trusted": true,
        "tags": [],
        "editable": true,
        "slideshow": {
          "slide_type": ""
        }
      },
      "outputs": [
        {
          "name": "stdout",
          "output_type": "stream",
          "text": "3+4\n"
        }
      ],
      "execution_count": 7
    },
    {
      "id": "ff25bfd8-af2b-4a06-b748-9ac8832bd74d",
      "cell_type": "code",
      "source": "print(3+\"4\")\n",
      "metadata": {
        "tags": [],
        "editable": true,
        "slideshow": {
          "slide_type": ""
        },
        "raw_mimetype": "",
        "trusted": true
      },
      "outputs": [
        {
          "ename": "<class 'TypeError'>",
          "evalue": "unsupported operand type(s) for +: 'int' and 'str'",
          "traceback": [
            "\u001b[0;31m---------------------------------------------------------------------------\u001b[0m",
            "\u001b[0;31mTypeError\u001b[0m                                 Traceback (most recent call last)",
            "Cell \u001b[0;32mIn[21], line 1\u001b[0m\n\u001b[0;32m----> 1\u001b[0m \u001b[38;5;28mprint\u001b[39m(\u001b[38;5;241;43m3\u001b[39;49m\u001b[38;5;241;43m+\u001b[39;49m\u001b[38;5;124;43m\"\u001b[39;49m\u001b[38;5;124;43m4\u001b[39;49m\u001b[38;5;124;43m\"\u001b[39;49m)\n",
            "\u001b[0;31mTypeError\u001b[0m: unsupported operand type(s) for +: 'int' and 'str'"
          ],
          "output_type": "error"
        }
      ],
      "execution_count": 21
    },
    {
      "id": "6c39f17c-f379-44c3-9f7f-ea952c76bae9",
      "cell_type": "code",
      "source": "print(3,\"4\")\n",
      "metadata": {
        "trusted": true,
        "tags": [],
        "editable": true,
        "slideshow": {
          "slide_type": ""
        }
      },
      "outputs": [
        {
          "name": "stdout",
          "output_type": "stream",
          "text": "3 4\n"
        }
      ],
      "execution_count": 22
    },
    {
      "id": "88c70a5e-190e-4c2f-860d-41bc78fef85f",
      "cell_type": "code",
      "source": "print(3 \"4\")",
      "metadata": {
        "trusted": true,
        "tags": [],
        "editable": true,
        "slideshow": {
          "slide_type": ""
        }
      },
      "outputs": [
        {
          "ename": "<class 'SyntaxError'>",
          "evalue": "invalid syntax. Perhaps you forgot a comma? (<ipython-input-23-21ec7c99bebc>, line 1)",
          "traceback": [
            "\u001b[0;36m  Cell \u001b[0;32mIn[23], line 1\u001b[0;36m\u001b[0m\n\u001b[0;31m    print(3 \"4\")\u001b[0m\n\u001b[0m          ^\u001b[0m\n\u001b[0;31mSyntaxError\u001b[0m\u001b[0;31m:\u001b[0m invalid syntax. Perhaps you forgot a comma?\n"
          ],
          "output_type": "error"
        }
      ],
      "execution_count": 23
    },
    {
      "id": "47ad0273-1eeb-40f5-925f-ea9a9b2f96d6",
      "cell_type": "code",
      "source": "print(str(3) + \"4\")",
      "metadata": {
        "trusted": true,
        "tags": [],
        "editable": true,
        "slideshow": {
          "slide_type": ""
        }
      },
      "outputs": [
        {
          "name": "stdout",
          "output_type": "stream",
          "text": "34\n"
        }
      ],
      "execution_count": 28
    },
    {
      "id": "bd7fdd8c-8a68-4b59-9a8e-9d11712ca2f9",
      "cell_type": "code",
      "source": "print(3 + int(\"4\"))",
      "metadata": {
        "tags": [],
        "editable": true,
        "slideshow": {
          "slide_type": ""
        },
        "raw_mimetype": "",
        "trusted": true
      },
      "outputs": [
        {
          "name": "stdout",
          "output_type": "stream",
          "text": "7\n"
        }
      ],
      "execution_count": 29
    },
    {
      "id": "158e792d-5bb1-4d85-b4f7-fdb56a555853",
      "cell_type": "code",
      "source": "",
      "metadata": {
        "trusted": true,
        "tags": [],
        "editable": true,
        "slideshow": {
          "slide_type": ""
        }
      },
      "outputs": [],
      "execution_count": null
    },
    {
      "id": "890d4604-fc73-4bec-9738-8c17f153864c",
      "cell_type": "code",
      "source": "",
      "metadata": {
        "trusted": true,
        "tags": [],
        "editable": true,
        "slideshow": {
          "slide_type": ""
        }
      },
      "outputs": [],
      "execution_count": null
    },
    {
      "id": "f7d905e9-1a8c-4337-8736-9d201639b844",
      "cell_type": "code",
      "source": "",
      "metadata": {
        "trusted": true,
        "tags": [],
        "editable": true,
        "slideshow": {
          "slide_type": ""
        }
      },
      "outputs": [],
      "execution_count": null
    },
    {
      "id": "d4763216-43e4-46f9-8a0f-3ddae75cba97",
      "cell_type": "code",
      "source": "",
      "metadata": {
        "trusted": true,
        "tags": [],
        "editable": true,
        "slideshow": {
          "slide_type": ""
        }
      },
      "outputs": [],
      "execution_count": null
    }
  ]
}